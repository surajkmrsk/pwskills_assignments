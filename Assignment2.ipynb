{
 "cells": [
  {
   "cell_type": "markdown",
   "id": "0274afe9-aa0b-44ac-828a-c7574d6c0e3b",
   "metadata": {},
   "source": [
    "Q1. Which keyword is used to create a function? Create a function to return a list of odd numbers in the\n",
    "range of 1 to 25."
   ]
  },
  {
   "cell_type": "code",
   "execution_count": null,
   "id": "36529abf-5435-4a9c-b496-d4388a75e2a0",
   "metadata": {},
   "outputs": [],
   "source": [
    "\"def\" keyword is used to create a function."
   ]
  },
  {
   "cell_type": "code",
   "execution_count": 1,
   "id": "c6736238-bacb-4a03-9a40-b161b4ce57f3",
   "metadata": {},
   "outputs": [],
   "source": [
    "def ret_odd():\n",
    "    n=1\n",
    "    ret_lis=[]\n",
    "    while n<=25:\n",
    "        if n%2!=0:\n",
    "            ret_lis.append(n)\n",
    "        n+=1\n",
    "    return ret_lis"
   ]
  },
  {
   "cell_type": "code",
   "execution_count": 2,
   "id": "29f3500c-853c-4591-8412-40e4f630c7a0",
   "metadata": {},
   "outputs": [
    {
     "data": {
      "text/plain": [
       "[1, 3, 5, 7, 9, 11, 13, 15, 17, 19, 21, 23, 25]"
      ]
     },
     "execution_count": 2,
     "metadata": {},
     "output_type": "execute_result"
    }
   ],
   "source": [
    "ret_odd()"
   ]
  },
  {
   "cell_type": "markdown",
   "id": "a637fbae-0d40-4f1f-998b-fbf367007f48",
   "metadata": {},
   "source": [
    "Q2. Why *args and **kwargs is used in some functions? Create a function each for *args and **kwargs\n",
    "to demonstrate their use."
   ]
  },
  {
   "cell_type": "markdown",
   "id": "486fa5fe-cf08-45e8-9b2c-38c01084ec8b",
   "metadata": {},
   "source": [
    "*args is used when we required to accept n number of parameters/arguments in function then we use *args also this is used to accept non dictionary type inputs, you can say normal values can be passed. Whereas **kwargs is used to take n number of dictionary parameters/arguments in a function. To pass n number of key value pair we can use **kwargs."
   ]
  },
  {
   "cell_type": "code",
   "execution_count": 4,
   "id": "9cce5be7-2fcc-4254-961a-7d8723feaf65",
   "metadata": {},
   "outputs": [],
   "source": [
    "def test_args(*args):\n",
    "    return args\n",
    "def test_kwargs(**kwargs):\n",
    "    return kwargs"
   ]
  },
  {
   "cell_type": "code",
   "execution_count": 8,
   "id": "c89038fc-93c5-4e2d-8f4a-58c5a21c047c",
   "metadata": {},
   "outputs": [
    {
     "data": {
      "text/plain": [
       "(1, 2, 3, 4, 'Suraj', 22.22, 3.14, True)"
      ]
     },
     "execution_count": 8,
     "metadata": {},
     "output_type": "execute_result"
    }
   ],
   "source": [
    "test_args(1,2,3,4,'Suraj',22.22,3.14,True)"
   ]
  },
  {
   "cell_type": "code",
   "execution_count": 7,
   "id": "896996f5-d191-4a33-b5f2-9955986a4fcd",
   "metadata": {},
   "outputs": [
    {
     "data": {
      "text/plain": [
       "tuple"
      ]
     },
     "execution_count": 7,
     "metadata": {},
     "output_type": "execute_result"
    }
   ],
   "source": [
    "type(test_args(1,2,3,4,'Suraj',22.22,3.14,True))"
   ]
  },
  {
   "cell_type": "code",
   "execution_count": 9,
   "id": "0629235d-3c14-4dde-9b19-ad055e0400db",
   "metadata": {},
   "outputs": [
    {
     "data": {
      "text/plain": [
       "{'name': 'suraj',\n",
       " 'job': 'DA',\n",
       " 'sal': 1000000,\n",
       " 'location': 'Jharkhand',\n",
       " 'phone': '9780057329'}"
      ]
     },
     "execution_count": 9,
     "metadata": {},
     "output_type": "execute_result"
    }
   ],
   "source": [
    "test_kwargs(name='suraj',job='DA',sal=1000000,location='Jharkhand',phone='9780057329')"
   ]
  },
  {
   "cell_type": "code",
   "execution_count": 10,
   "id": "1c5d8d86-7b22-4526-acee-0fdaa9ae69c7",
   "metadata": {},
   "outputs": [
    {
     "data": {
      "text/plain": [
       "dict"
      ]
     },
     "execution_count": 10,
     "metadata": {},
     "output_type": "execute_result"
    }
   ],
   "source": [
    "type(test_kwargs(name='suraj',job='DA',sal=1000000,location='Jharkhand',phone='9780057329'))"
   ]
  },
  {
   "cell_type": "markdown",
   "id": "46ba4cb5-229c-44da-bf7f-e9fa9f8ae9ab",
   "metadata": {},
   "source": [
    "Q3. What is an iterator in python? Name the method used to initialise the iterator object and the method\n",
    "used for iteration. Use these methods to print the first five elements of the given list [2, 4, 6, 8, 10, 12, 14,\n",
    "16, 18, 20]."
   ]
  },
  {
   "cell_type": "markdown",
   "id": "a6adc643-686d-49ed-8976-1e45bf2670a1",
   "metadata": {},
   "source": [
    "Iterator is an object which allows you to iterate over a collections of data such as list,tuple,dict,sets. iter() method is used to initialize the iterator."
   ]
  },
  {
   "cell_type": "code",
   "execution_count": 21,
   "id": "9ae0739a-9b55-42f5-9b73-661471a54ee9",
   "metadata": {},
   "outputs": [
    {
     "name": "stdout",
     "output_type": "stream",
     "text": [
      "2\n",
      "4\n",
      "6\n",
      "8\n",
      "10\n"
     ]
    }
   ],
   "source": [
    "lis= [2, 4, 6, 8, 10, 12, 14, 16, 18, 20]\n",
    "iterate=iter(lis)\n",
    "for i in range(5):\n",
    "    print(next(iterate))"
   ]
  },
  {
   "cell_type": "markdown",
   "id": "8b690729-26dc-4d5c-b3a7-4c53968d98ce",
   "metadata": {},
   "source": [
    "Q4. What is a generator function in python? Why yield keyword is used? Give an example of a generator\n",
    "function."
   ]
  },
  {
   "cell_type": "markdown",
   "id": "01081765-4de0-4943-a9d9-5edfe4bc06b2",
   "metadata": {},
   "source": [
    "Generator function is a type of function which is called to save memory, maintain memory utilization of the code and run code effeciently. For loop is an example of a generator function."
   ]
  },
  {
   "cell_type": "markdown",
   "id": "b4572855-3f3a-48ce-981b-72b361ce02be",
   "metadata": {},
   "source": [
    "Q5. Create a generator function for prime numbers less than 1000. Use the next() method to print the\n",
    "first 20 prime numbers."
   ]
  },
  {
   "cell_type": "code",
   "execution_count": 5,
   "id": "4d21529f-e66d-4352-ba5f-c791b5eeb4e7",
   "metadata": {},
   "outputs": [
    {
     "name": "stdout",
     "output_type": "stream",
     "text": [
      "2\n",
      "3\n",
      "5\n",
      "7\n",
      "11\n",
      "13\n",
      "17\n",
      "19\n",
      "23\n",
      "29\n",
      "31\n",
      "37\n",
      "41\n",
      "43\n",
      "47\n",
      "53\n",
      "59\n",
      "61\n",
      "67\n",
      "71\n"
     ]
    }
   ],
   "source": [
    "def prime_num():\n",
    "    r=1000\n",
    "    for n in range(2,r+1):\n",
    "        flag=0\n",
    "        for i in range(2,n//2+1):\n",
    "            if (n%i==0):\n",
    "                flag+=1\n",
    "        if(flag<=0):\n",
    "            yield n\n",
    "            \n",
    "iterate=iter(prime_num())\n",
    "for i in range(20):\n",
    "    print(next(iterate))"
   ]
  },
  {
   "cell_type": "code",
   "execution_count": null,
   "id": "8721415c-54d2-42d0-a30e-71079a9c2089",
   "metadata": {},
   "outputs": [],
   "source": []
  },
  {
   "cell_type": "markdown",
   "id": "f72f09dd-e485-48f7-bf02-9a9a2e76175f",
   "metadata": {},
   "source": [
    "Q6. Write a python program to print the first 10 Fibonacci numbers using a while loop."
   ]
  },
  {
   "cell_type": "code",
   "execution_count": 8,
   "id": "0bd1512b-2e66-4472-8cc2-b1c0ec5f5eca",
   "metadata": {},
   "outputs": [
    {
     "name": "stdout",
     "output_type": "stream",
     "text": [
      "0\n",
      "1\n",
      "1\n",
      "2\n",
      "3\n",
      "5\n",
      "8\n",
      "13\n",
      "21\n",
      "34\n"
     ]
    }
   ],
   "source": [
    "a,b,n=0,1,1\n",
    "while n<=10:\n",
    "    print(a)\n",
    "    a,b=b,a+b\n",
    "    n+=1"
   ]
  },
  {
   "cell_type": "code",
   "execution_count": null,
   "id": "05ce3ff2-d307-432a-9fec-0b52a2074e5e",
   "metadata": {},
   "outputs": [],
   "source": []
  },
  {
   "cell_type": "markdown",
   "id": "71f5add7-d597-4567-86da-9f3a8adf69ca",
   "metadata": {},
   "source": [
    "Q7. Write a List Comprehension to iterate through the given string: ‘pwskills’.\n",
    "Expected output: ['p', 'w', 's', 'k', 'i', 'l', 'l', 's']"
   ]
  },
  {
   "cell_type": "code",
   "execution_count": 12,
   "id": "06dbb67b-4edc-4bbf-8e98-3eb90aed3251",
   "metadata": {},
   "outputs": [
    {
     "data": {
      "text/plain": [
       "['p', 'w', 's', 'k', 'i', 'l', 'l', 's']"
      ]
     },
     "execution_count": 12,
     "metadata": {},
     "output_type": "execute_result"
    }
   ],
   "source": [
    "[i for i in 'pwskills']"
   ]
  },
  {
   "cell_type": "code",
   "execution_count": null,
   "id": "efbb279c-1087-4d6e-a509-9bf566c01f61",
   "metadata": {},
   "outputs": [],
   "source": []
  },
  {
   "cell_type": "markdown",
   "id": "04b1ef1a-6368-463e-9bcf-47abd6e2887c",
   "metadata": {},
   "source": [
    "Q9. Write a code to print odd numbers from 1 to 100 using list comprehension."
   ]
  },
  {
   "cell_type": "code",
   "execution_count": 17,
   "id": "7e2fb30a-4616-436f-a2cf-92045df2cbc5",
   "metadata": {},
   "outputs": [
    {
     "data": {
      "text/plain": [
       "[1,\n",
       " 3,\n",
       " 5,\n",
       " 7,\n",
       " 9,\n",
       " 11,\n",
       " 13,\n",
       " 15,\n",
       " 17,\n",
       " 19,\n",
       " 21,\n",
       " 23,\n",
       " 25,\n",
       " 27,\n",
       " 29,\n",
       " 31,\n",
       " 33,\n",
       " 35,\n",
       " 37,\n",
       " 39,\n",
       " 41,\n",
       " 43,\n",
       " 45,\n",
       " 47,\n",
       " 49,\n",
       " 51,\n",
       " 53,\n",
       " 55,\n",
       " 57,\n",
       " 59,\n",
       " 61,\n",
       " 63,\n",
       " 65,\n",
       " 67,\n",
       " 69,\n",
       " 71,\n",
       " 73,\n",
       " 75,\n",
       " 77,\n",
       " 79,\n",
       " 81,\n",
       " 83,\n",
       " 85,\n",
       " 87,\n",
       " 89,\n",
       " 91,\n",
       " 93,\n",
       " 95,\n",
       " 97,\n",
       " 99]"
      ]
     },
     "execution_count": 17,
     "metadata": {},
     "output_type": "execute_result"
    }
   ],
   "source": [
    "[i for i in range(100) if i%2!=0 ]"
   ]
  },
  {
   "cell_type": "code",
   "execution_count": null,
   "id": "bff6c7ca-8a07-4fe7-87bd-d392f13353ab",
   "metadata": {},
   "outputs": [],
   "source": []
  }
 ],
 "metadata": {
  "kernelspec": {
   "display_name": "Python 3 (ipykernel)",
   "language": "python",
   "name": "python3"
  },
  "language_info": {
   "codemirror_mode": {
    "name": "ipython",
    "version": 3
   },
   "file_extension": ".py",
   "mimetype": "text/x-python",
   "name": "python",
   "nbconvert_exporter": "python",
   "pygments_lexer": "ipython3",
   "version": "3.10.8"
  }
 },
 "nbformat": 4,
 "nbformat_minor": 5
}
