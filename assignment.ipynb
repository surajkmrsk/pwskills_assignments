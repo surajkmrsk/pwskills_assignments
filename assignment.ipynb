{
 "cells": [
  {
   "cell_type": "markdown",
   "id": "0498f04f-ade2-4a36-936c-ea03ab4cb2b4",
   "metadata": {},
   "source": [
    "Q1. Explain with an example each when to use a for loop and a while loop."
   ]
  },
  {
   "cell_type": "markdown",
   "id": "f43cf511-cd59-4ea0-adb0-9f25c75d4aaa",
   "metadata": {},
   "source": [
    "The difference between for and while loop is, for loop is used to iterate whereas While loop is used to itrate only if condition is True. If condition is false the while loop won't run the body and break itself on the other hand in for loop we can check the condition inside the body and use Break command to break the loop if condition won't match. Please refer question number 2 for example, in for loop we are iterating only whereas in While loop we are checking condition then enter in condition's body."
   ]
  },
  {
   "cell_type": "markdown",
   "id": "c3848efc-b315-42cb-94b9-56d5ebe3db43",
   "metadata": {},
   "source": [
    "Q2. Write a python program to print the sum and product of the first 10 natural numbers using for\n",
    "and while loop."
   ]
  },
  {
   "cell_type": "code",
   "execution_count": 7,
   "id": "7295cfa0-36a9-4fa2-a76f-c63de82d32d1",
   "metadata": {},
   "outputs": [
    {
     "name": "stdout",
     "output_type": "stream",
     "text": [
      "The sum of first 10 natural numbers is 55\n",
      "The product of first 10 natural numbers is 3628800\n"
     ]
    }
   ],
   "source": [
    "#print the sum and product of the first 10 natural numbers using for loop.\n",
    "add=0\n",
    "mult=1\n",
    "for i in range(1,11):\n",
    "    add=i+add\n",
    "    mult=i*mult\n",
    "    \n",
    "print(\"The sum of first 10 natural numbers is {}\".format(add))\n",
    "print(\"The product of first 10 natural numbers is {}\".format(mult))"
   ]
  },
  {
   "cell_type": "code",
   "execution_count": 13,
   "id": "ad753ee6-7c70-419b-b459-e1c4adc84237",
   "metadata": {},
   "outputs": [
    {
     "name": "stdout",
     "output_type": "stream",
     "text": [
      "The sum of first 10 natural numbers is 55\n",
      "The product of first 10 natural numbers is 3628800\n"
     ]
    }
   ],
   "source": [
    "#print the sum and product of the first 10 natural numbers using while loop.\n",
    "add=0\n",
    "mult=1\n",
    "i=1\n",
    "while i<=10:\n",
    "    add=i+add\n",
    "    mult=i*mult\n",
    "    i+=1\n",
    "    \n",
    "print(\"The sum of first 10 natural numbers is {}\".format(add))\n",
    "print(\"The product of first 10 natural numbers is {}\".format(mult))"
   ]
  },
  {
   "cell_type": "code",
   "execution_count": null,
   "id": "fc9d5942-6fcd-41f0-a4a6-a9c2bc09c655",
   "metadata": {},
   "outputs": [],
   "source": []
  },
  {
   "cell_type": "markdown",
   "id": "a7ed2b02-bd01-4eb1-8c0f-909e03cd7cd8",
   "metadata": {},
   "source": [
    "Q3. Create a python program to compute the electricity bill for a household.\n",
    "\n",
    "The per-unit charges in rupees are as follows: For the first 100 units, the user will be charged Rs. 4.5 per\n",
    "unit, for the next 100 units, the user will be charged Rs. 6 per unit, and for the next 100 units, the user will\n",
    "be charged Rs. 10 per unit, After 300 units and above the user will be charged Rs. 20 per unit.\n",
    "\n",
    "You are required to take the units of electricity consumed in a month from the user as input.\n",
    "\n",
    "Your program must pass this test case: when the unit of electricity consumed by the user in a month is\n",
    "310, the total electricity bill should be 2250."
   ]
  },
  {
   "cell_type": "code",
   "execution_count": 28,
   "id": "9adbddd0-ca41-4bc8-b5a5-ba2f38848c79",
   "metadata": {},
   "outputs": [
    {
     "name": "stdin",
     "output_type": "stream",
     "text": [
      "Enter consumed unit 310\n"
     ]
    },
    {
     "name": "stdout",
     "output_type": "stream",
     "text": [
      "The total electricity bill is 2250.0\n"
     ]
    }
   ],
   "source": [
    "unit=int(input(\"Enter consumed unit\"))\n",
    "bill=0\n",
    "for i in range(1,unit+1):\n",
    "    if i<=100:\n",
    "        bill=bill+4.5\n",
    "    elif i>100 and i<=200:\n",
    "        bill=bill+6\n",
    "    elif i>200 and i<=300:\n",
    "        bill=bill+10\n",
    "    else:\n",
    "        bill=bill+20\n",
    "print(\"The total electricity bill is {}\".format(bill))"
   ]
  },
  {
   "cell_type": "code",
   "execution_count": null,
   "id": "99cb70eb-c566-46b3-94c9-e73252af2016",
   "metadata": {},
   "outputs": [],
   "source": []
  },
  {
   "cell_type": "markdown",
   "id": "2aaf7b45-fffe-4a73-bd65-234dfe91442f",
   "metadata": {},
   "source": [
    "Q4. Create a list of numbers from 1 to 100. Use for loop and while loop to calculate the cube of each number and if the cube of that number is divisible by 4 or 5 then append that number in a list and print that list."
   ]
  },
  {
   "cell_type": "code",
   "execution_count": 5,
   "id": "5632b722-2491-4c13-b0f4-8bd5525474ab",
   "metadata": {},
   "outputs": [
    {
     "name": "stdout",
     "output_type": "stream",
     "text": [
      "[2, 4, 5, 6, 8, 10, 12, 14, 15, 16, 18, 20, 22, 24, 25, 26, 28, 30, 32, 34, 35, 36, 38, 40, 42, 44, 45, 46, 48, 50, 52, 54, 55, 56, 58, 60, 62, 64, 65, 66, 68, 70, 72, 74, 75, 76, 78, 80, 82, 84, 85, 86, 88, 90, 92, 94, 95, 96, 98, 100]\n"
     ]
    }
   ],
   "source": [
    "#Use for loop to calculate the cube of each number and if the cube of that number is divisible by 4 or 5 then append that number in a list and print that list.\n",
    "lis=[]\n",
    "for i in range(1,101):\n",
    "    cube=i**3\n",
    "    if cube%4==0 or cube%5==0:\n",
    "        lis.append(i)\n",
    "print(lis)"
   ]
  },
  {
   "cell_type": "code",
   "execution_count": 6,
   "id": "b08766e2-4749-4edb-946e-6526928fefea",
   "metadata": {},
   "outputs": [
    {
     "name": "stdout",
     "output_type": "stream",
     "text": [
      "[2, 4, 5, 6, 8, 10, 12, 14, 15, 16, 18, 20, 22, 24, 25, 26, 28, 30, 32, 34, 35, 36, 38, 40, 42, 44, 45, 46, 48, 50, 52, 54, 55, 56, 58, 60, 62, 64, 65, 66, 68, 70, 72, 74, 75, 76, 78, 80, 82, 84, 85, 86, 88, 90, 92, 94, 95, 96, 98, 100]\n"
     ]
    }
   ],
   "source": [
    "#Use while loop to calculate the cube of each number and if the cube of that number is divisible by 4 or 5 then append that number in a list and print that list.\n",
    "lis=[]\n",
    "i=1\n",
    "while i<=100:\n",
    "    cube=i**3\n",
    "    if cube%4==0 or cube%5==0:\n",
    "        lis.append(i)\n",
    "    i+=1\n",
    "print(lis)"
   ]
  },
  {
   "cell_type": "code",
   "execution_count": null,
   "id": "0971b2c6-32dd-4588-861a-549a3b232966",
   "metadata": {},
   "outputs": [],
   "source": []
  },
  {
   "cell_type": "markdown",
   "id": "e1c52065-e27e-409d-ac91-50379cb502e9",
   "metadata": {},
   "source": [
    "Q5. Write a program to filter count vowels in the below-given string.\n",
    "string = \"I want to become a data scientist\""
   ]
  },
  {
   "cell_type": "code",
   "execution_count": 8,
   "id": "19364fec-72c9-4d80-96ce-1418367a4b34",
   "metadata": {},
   "outputs": [
    {
     "name": "stdout",
     "output_type": "stream",
     "text": [
      "12\n"
     ]
    }
   ],
   "source": [
    "string = \"I want to become a data scientist\"\n",
    "vowels='AaEeIiOoUu'\n",
    "count=0\n",
    "for i in string:\n",
    "    if i in vowels:\n",
    "        count+=1\n",
    "print(count)"
   ]
  },
  {
   "cell_type": "code",
   "execution_count": null,
   "id": "b187df0d-75f6-469d-9b5b-4aa64968e737",
   "metadata": {},
   "outputs": [],
   "source": []
  }
 ],
 "metadata": {
  "kernelspec": {
   "display_name": "Python 3 (ipykernel)",
   "language": "python",
   "name": "python3"
  },
  "language_info": {
   "codemirror_mode": {
    "name": "ipython",
    "version": 3
   },
   "file_extension": ".py",
   "mimetype": "text/x-python",
   "name": "python",
   "nbconvert_exporter": "python",
   "pygments_lexer": "ipython3",
   "version": "3.10.8"
  }
 },
 "nbformat": 4,
 "nbformat_minor": 5
}
